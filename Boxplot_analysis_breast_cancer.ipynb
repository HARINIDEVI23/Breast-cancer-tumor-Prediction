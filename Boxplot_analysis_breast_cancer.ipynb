{
  "nbformat": 4,
  "nbformat_minor": 0,
  "metadata": {
    "colab": {
      "provenance": [],
      "authorship_tag": "ABX9TyMOgOeLndVoIgbpX2H07BW/",
      "include_colab_link": true
    },
    "kernelspec": {
      "name": "ir",
      "display_name": "R"
    },
    "language_info": {
      "name": "R"
    }
  },
  "cells": [
    {
      "cell_type": "markdown",
      "metadata": {
        "id": "view-in-github",
        "colab_type": "text"
      },
      "source": [
        "<a href=\"https://colab.research.google.com/github/HARINIDEVI23/Breast-cancer-tumor-Prediction/blob/main/Boxplot_analysis_breast_cancer.ipynb\" target=\"_parent\"><img src=\"https://colab.research.google.com/assets/colab-badge.svg\" alt=\"Open In Colab\"/></a>"
      ]
    },
    {
      "cell_type": "code",
      "execution_count": null,
      "metadata": {
        "id": "AyCh2Vbj0pcn"
      },
      "outputs": [],
      "source": [
        "library(dplyr)\n",
        "\n",
        "library(ggplot2)"
      ]
    },
    {
      "cell_type": "code",
      "source": [
        "df <- read.csv(\"updated_dataset.csv\")"
      ],
      "metadata": {
        "id": "uXcucyzM0_ju"
      },
      "execution_count": null,
      "outputs": []
    },
    {
      "cell_type": "code",
      "source": [
        "str(df)"
      ],
      "metadata": {
        "colab": {
          "base_uri": "https://localhost:8080/"
        },
        "id": "afYFOSU01SR5",
        "outputId": "b1f3965b-7e7f-4ef2-b869-5e0899540a9b"
      },
      "execution_count": null,
      "outputs": [
        {
          "output_type": "stream",
          "name": "stdout",
          "text": [
            "'data.frame':\t569 obs. of  32 variables:\n",
            " $ id                     : int  842302 842517 84300903 84348301 84358402 843786 844359 84458202 844981 84501001 ...\n",
            " $ diagnosis              : chr  \"M\" \"M\" \"M\" \"M\" ...\n",
            " $ radius_mean            : num  18 20.6 19.7 11.4 20.3 ...\n",
            " $ texture_mean           : num  10.4 17.8 21.2 20.4 14.3 ...\n",
            " $ perimeter_mean         : num  122.8 132.9 130 77.6 135.1 ...\n",
            " $ area_mean              : num  1001 1326 1203 386 1297 ...\n",
            " $ smoothness_mean        : num  0.1184 0.0847 0.1096 0.1425 0.1003 ...\n",
            " $ compactness_mean       : num  0.2776 0.0786 0.1599 0.2839 0.1328 ...\n",
            " $ concavity_mean         : num  0.3001 0.0869 0.1974 0.2414 0.198 ...\n",
            " $ concave.points_mean    : num  0.1471 0.0702 0.1279 0.1052 0.1043 ...\n",
            " $ symmetry_mean          : num  0.242 0.181 0.207 0.26 0.181 ...\n",
            " $ fractal_dimension_mean : num  0.0787 0.0567 0.06 0.0974 0.0588 ...\n",
            " $ radius_se              : num  1.095 0.543 0.746 0.496 0.757 ...\n",
            " $ texture_se             : num  0.905 0.734 0.787 1.156 0.781 ...\n",
            " $ perimeter_se           : num  8.59 3.4 4.58 3.44 5.44 ...\n",
            " $ area_se                : num  153.4 74.1 94 27.2 94.4 ...\n",
            " $ smoothness_se          : num  0.0064 0.00522 0.00615 0.00911 0.01149 ...\n",
            " $ compactness_se         : num  0.049 0.0131 0.0401 0.0746 0.0246 ...\n",
            " $ concavity_se           : num  0.0537 0.0186 0.0383 0.0566 0.0569 ...\n",
            " $ concave.points_se      : num  0.0159 0.0134 0.0206 0.0187 0.0188 ...\n",
            " $ symmetry_se            : num  0.03 0.0139 0.0225 0.0596 0.0176 ...\n",
            " $ fractal_dimension_se   : num  0.00619 0.00353 0.00457 0.00921 0.00511 ...\n",
            " $ radius_worst           : num  25.4 25 23.6 14.9 22.5 ...\n",
            " $ texture_worst          : num  17.3 23.4 25.5 26.5 16.7 ...\n",
            " $ perimeter_worst        : num  184.6 158.8 152.5 98.9 152.2 ...\n",
            " $ area_worst             : num  2019 1956 1709 568 1575 ...\n",
            " $ smoothness_worst       : num  0.162 0.124 0.144 0.21 0.137 ...\n",
            " $ compactness_worst      : num  0.666 0.187 0.424 0.866 0.205 ...\n",
            " $ concavity_worst        : num  0.712 0.242 0.45 0.687 0.4 ...\n",
            " $ concave.points_worst   : num  0.265 0.186 0.243 0.258 0.163 ...\n",
            " $ symmetry_worst         : num  0.46 0.275 0.361 0.664 0.236 ...\n",
            " $ fractal_dimension_worst: num  0.1189 0.089 0.0876 0.173 0.0768 ...\n"
          ]
        }
      ]
    },
    {
      "cell_type": "code",
      "source": [
        "summary(df)"
      ],
      "metadata": {
        "colab": {
          "base_uri": "https://localhost:8080/",
          "height": 989
        },
        "id": "S2phSMj-1WJA",
        "outputId": "0b64f188-2174-4be6-d69c-c9fddc0884ac"
      },
      "execution_count": null,
      "outputs": [
        {
          "output_type": "display_data",
          "data": {
            "text/plain": [
              "       id             diagnosis          radius_mean      texture_mean  \n",
              " Min.   :     8670   Length:569         Min.   : 6.981   Min.   : 9.71  \n",
              " 1st Qu.:   869218   Class :character   1st Qu.:11.700   1st Qu.:16.32  \n",
              " Median :   906024   Mode  :character   Median :13.370   Median :18.90  \n",
              " Mean   : 30371831                      Mean   :14.127   Mean   :19.27  \n",
              " 3rd Qu.:  8813129                      3rd Qu.:15.780   3rd Qu.:21.60  \n",
              " Max.   :911320502                      Max.   :28.110   Max.   :39.28  \n",
              " perimeter_mean     area_mean      smoothness_mean   compactness_mean \n",
              " Min.   : 43.79   Min.   : 143.5   Min.   :0.05263   Min.   :0.01938  \n",
              " 1st Qu.: 75.17   1st Qu.: 420.3   1st Qu.:0.08637   1st Qu.:0.06545  \n",
              " Median : 86.24   Median : 551.1   Median :0.09587   Median :0.09445  \n",
              " Mean   : 91.97   Mean   : 654.9   Mean   :0.09636   Mean   :0.10367  \n",
              " 3rd Qu.:104.10   3rd Qu.: 782.7   3rd Qu.:0.10530   3rd Qu.:0.12920  \n",
              " Max.   :188.50   Max.   :2501.0   Max.   :0.16340   Max.   :0.34540  \n",
              " concavity_mean    concave.points_mean symmetry_mean    fractal_dimension_mean\n",
              " Min.   :0.00000   Min.   :0.00000     Min.   :0.1060   Min.   :0.04996       \n",
              " 1st Qu.:0.02956   1st Qu.:0.02031     1st Qu.:0.1619   1st Qu.:0.05770       \n",
              " Median :0.06154   Median :0.03384     Median :0.1792   Median :0.06154       \n",
              " Mean   :0.08880   Mean   :0.04803     Mean   :0.1812   Mean   :0.06280       \n",
              " 3rd Qu.:0.13070   3rd Qu.:0.06772     3rd Qu.:0.1957   3rd Qu.:0.06612       \n",
              " Max.   :0.42680   Max.   :0.20120     Max.   :0.3040   Max.   :0.09744       \n",
              "   radius_se        texture_se      perimeter_se       area_se       \n",
              " Min.   :0.1115   Min.   :0.3602   Min.   : 0.757   Min.   :  6.802  \n",
              " 1st Qu.:0.2324   1st Qu.:0.8339   1st Qu.: 1.606   1st Qu.: 17.850  \n",
              " Median :0.3242   Median :1.1080   Median : 2.287   Median : 24.530  \n",
              " Mean   :0.4052   Mean   :1.2169   Mean   : 2.866   Mean   : 40.337  \n",
              " 3rd Qu.:0.4789   3rd Qu.:1.4740   3rd Qu.: 3.357   3rd Qu.: 45.190  \n",
              " Max.   :2.8730   Max.   :4.8850   Max.   :21.980   Max.   :542.200  \n",
              " smoothness_se      compactness_se      concavity_se     concave.points_se \n",
              " Min.   :0.001713   Min.   :0.002252   Min.   :0.00000   Min.   :0.000000  \n",
              " 1st Qu.:0.005169   1st Qu.:0.013080   1st Qu.:0.01509   1st Qu.:0.007638  \n",
              " Median :0.006380   Median :0.020450   Median :0.02589   Median :0.010930  \n",
              " Mean   :0.007041   Mean   :0.025478   Mean   :0.03189   Mean   :0.011796  \n",
              " 3rd Qu.:0.008146   3rd Qu.:0.032450   3rd Qu.:0.04205   3rd Qu.:0.014710  \n",
              " Max.   :0.031130   Max.   :0.135400   Max.   :0.39600   Max.   :0.052790  \n",
              "  symmetry_se       fractal_dimension_se  radius_worst   texture_worst  \n",
              " Min.   :0.007882   Min.   :0.0008948    Min.   : 7.93   Min.   :12.02  \n",
              " 1st Qu.:0.015160   1st Qu.:0.0022480    1st Qu.:13.01   1st Qu.:21.08  \n",
              " Median :0.018730   Median :0.0031870    Median :14.97   Median :25.41  \n",
              " Mean   :0.020542   Mean   :0.0037949    Mean   :16.27   Mean   :25.68  \n",
              " 3rd Qu.:0.023480   3rd Qu.:0.0045580    3rd Qu.:18.79   3rd Qu.:29.72  \n",
              " Max.   :0.078950   Max.   :0.0298400    Max.   :36.04   Max.   :49.54  \n",
              " perimeter_worst    area_worst     smoothness_worst  compactness_worst\n",
              " Min.   : 50.41   Min.   : 185.2   Min.   :0.07117   Min.   :0.02729  \n",
              " 1st Qu.: 84.11   1st Qu.: 515.3   1st Qu.:0.11660   1st Qu.:0.14720  \n",
              " Median : 97.66   Median : 686.5   Median :0.13130   Median :0.21190  \n",
              " Mean   :107.26   Mean   : 880.6   Mean   :0.13237   Mean   :0.25427  \n",
              " 3rd Qu.:125.40   3rd Qu.:1084.0   3rd Qu.:0.14600   3rd Qu.:0.33910  \n",
              " Max.   :251.20   Max.   :4254.0   Max.   :0.22260   Max.   :1.05800  \n",
              " concavity_worst  concave.points_worst symmetry_worst   fractal_dimension_worst\n",
              " Min.   :0.0000   Min.   :0.00000      Min.   :0.1565   Min.   :0.05504        \n",
              " 1st Qu.:0.1145   1st Qu.:0.06493      1st Qu.:0.2504   1st Qu.:0.07146        \n",
              " Median :0.2267   Median :0.09993      Median :0.2822   Median :0.08004        \n",
              " Mean   :0.2722   Mean   :0.11461      Mean   :0.2901   Mean   :0.08395        \n",
              " 3rd Qu.:0.3829   3rd Qu.:0.16140      3rd Qu.:0.3179   3rd Qu.:0.09208        \n",
              " Max.   :1.2520   Max.   :0.29100      Max.   :0.6638   Max.   :0.20750        "
            ]
          },
          "metadata": {}
        }
      ]
    },
    {
      "cell_type": "code",
      "source": [
        "ggplot(data = df, aes(x = diagnosis, y = radius_mean, fill = diagnosis)) +\n",
        "  geom_boxplot() +\n",
        "  labs(title = \"Boxplot of Radius Mean by Diagnosis\",\n",
        "       x = \"Diagnosis\",\n",
        "       y = \"Radius Mean\") +\n",
        "  theme_minimal()"
      ],
      "metadata": {
        "colab": {
          "base_uri": "https://localhost:8080/",
          "height": 437
        },
        "id": "S3mmMtk61ZW1",
        "outputId": "bec4899f-5eae-4b05-dbe1-dd1862ee30b7"
      },
      "execution_count": null,
      "outputs": [
        {
          "output_type": "display_data",
          "data": {
            "text/plain": [
              "plot without title"
            ],
            "image/png": "[encoded data removed]"
          },
          "metadata": {
            "image/png": {
              "width": 420,
              "height": 420
            }
          }
        }
      ]
    }
  ]
}