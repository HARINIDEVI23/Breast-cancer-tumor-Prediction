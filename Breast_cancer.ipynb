{
  "nbformat": 4,
  "nbformat_minor": 0,
  "metadata": {
    "colab": {
      "provenance": [],
      "include_colab_link": true
    },
    "kernelspec": {
      "name": "ir",
      "display_name": "R"
    },
    "language_info": {
      "name": "R"
    }
  },
  "cells": [
    {
      "cell_type": "markdown",
      "metadata": {
        "id": "view-in-github",
        "colab_type": "text"
      },
      "source": [
        "<a href=\"https://colab.research.google.com/github/HARINIDEVI23/Breast-cancer-tumor-Prediction/blob/main/Breast_cancer.ipynb\" target=\"_parent\"><img src=\"https://colab.research.google.com/assets/colab-badge.svg\" alt=\"Open In Colab\"/></a>"
      ]
    },
    {
      "cell_type": "code",
      "execution_count": null,
      "metadata": {
        "colab": {
          "base_uri": "https://localhost:8080/"
        },
        "id": "NP5-Ik3R03Md",
        "outputId": "99e5ee1a-cd88-48c7-817d-a9905f074b74"
      },
      "outputs": [
        {
          "output_type": "stream",
          "name": "stderr",
          "text": [
            "\n",
            "Attaching package: ‘dplyr’\n",
            "\n",
            "\n",
            "The following objects are masked from ‘package:stats’:\n",
            "\n",
            "    filter, lag\n",
            "\n",
            "\n",
            "The following objects are masked from ‘package:base’:\n",
            "\n",
            "    intersect, setdiff, setequal, union\n",
            "\n",
            "\n"
          ]
        }
      ],
      "source": [
        "library(dplyr)"
      ]
    },
    {
      "cell_type": "code",
      "source": [
        "df <- read.csv(\"datascience1.csv\")"
      ],
      "metadata": {
        "id": "m5DHUBfw1mVr"
      },
      "execution_count": null,
      "outputs": []
    },
    {
      "cell_type": "code",
      "source": [
        "head(df)"
      ],
      "metadata": {
        "id": "nFnShHIJ30IX"
      },
      "execution_count": null,
      "outputs": []
    },
    {
      "cell_type": "code",
      "source": [
        "# Assuming df contains your data\n",
        "# Check for missing values\n",
        "missing_values <- colSums(is.na(df))\n",
        "print(missing_values)\n"
      ],
      "metadata": {
        "colab": {
          "base_uri": "https://localhost:8080/"
        },
        "id": "tTxisJxX1rRh",
        "outputId": "5972a070-d562-4d9f-dd7b-dfecdc5d4d06"
      },
      "execution_count": null,
      "outputs": [
        {
          "output_type": "stream",
          "name": "stdout",
          "text": [
            "                     id               diagnosis             radius_mean \n",
            "                      0                       0                       0 \n",
            "           texture_mean          perimeter_mean               area_mean \n",
            "                     12                       0                       0 \n",
            "        smoothness_mean        compactness_mean          concavity_mean \n",
            "                      0                      13                       0 \n",
            "    concave.points_mean           symmetry_mean  fractal_dimension_mean \n",
            "                     16                       0                       0 \n",
            "              radius_se              texture_se            perimeter_se \n",
            "                      0                       0                       0 \n",
            "                area_se           smoothness_se          compactness_se \n",
            "                      0                       0                       0 \n",
            "           concavity_se       concave.points_se             symmetry_se \n",
            "                      0                       0                       0 \n",
            "   fractal_dimension_se            radius_worst           texture_worst \n",
            "                      0                       0                       0 \n",
            "        perimeter_worst              area_worst        smoothness_worst \n",
            "                      0                       0                       0 \n",
            "      compactness_worst         concavity_worst    concave.points_worst \n",
            "                      0                       0                       0 \n",
            "         symmetry_worst fractal_dimension_worst \n",
            "                      0                       0 \n"
          ]
        }
      ]
    },
    {
      "cell_type": "code",
      "source": [
        "# Load necessary library\n",
        "library(tidyverse)\n",
        "\n",
        "# Assuming df contains your data\n",
        "\n",
        "# Replace missing values with mean\n",
        "df_filled <- df %>%\n",
        "  mutate(across(everything(), ~ifelse(is.na(.), mean(., na.rm = TRUE), .)))\n",
        "\n",
        "# Save the updated dataset to another CSV file\n",
        "write.csv(df_filled, file = \"updated_dataset.csv\", row.names = FALSE)\n"
      ],
      "metadata": {
        "id": "5ABIJfwb308F"
      },
      "execution_count": null,
      "outputs": []
    },
    {
      "cell_type": "code",
      "source": [
        "sum(is.na(data))"
      ],
      "metadata": {
        "colab": {
          "base_uri": "https://localhost:8080/",
          "height": 69
        },
        "id": "Wd3K4tdS29M7",
        "outputId": "595640bf-deb4-4146-a803-ea0c40645d23"
      },
      "execution_count": null,
      "outputs": [
        {
          "output_type": "stream",
          "name": "stderr",
          "text": [
            "Warning message in is.na(data):\n",
            "“is.na() applied to non-(list or vector) of type 'closure'”\n"
          ]
        },
        {
          "output_type": "display_data",
          "data": {
            "text/html": [
              "0"
            ],
            "text/markdown": "0",
            "text/latex": "0",
            "text/plain": [
              "[1] 0"
            ]
          },
          "metadata": {}
        }
      ]
    },
    {
      "cell_type": "code",
      "source": [
        "# Load necessary library\n",
        "library(tidyverse)\n",
        "\n",
        "# Assuming df contains your data\n",
        "\n",
        "# Replace missing values with mean\n",
        "df_filled <- df %>%\n",
        "  mutate(across(everything(), ~ifelse(is.na(.), mean(., na.rm = TRUE), .)))\n",
        "\n",
        "# Check for missing values after filling with mean\n",
        "missing_values_filled <- colSums(is.na(df_filled))\n",
        "print(missing_values_filled)\n"
      ],
      "metadata": {
        "colab": {
          "base_uri": "https://localhost:8080/"
        },
        "id": "AZU0Zemv3kDi",
        "outputId": "2cc2680e-006a-4174-e54c-d0419d2ff49d"
      },
      "execution_count": null,
      "outputs": [
        {
          "output_type": "stream",
          "name": "stderr",
          "text": [
            "── \u001b[1mAttaching core tidyverse packages\u001b[22m ──────────────────────── tidyverse 2.0.0 ──\n",
            "\u001b[32m✔\u001b[39m \u001b[34mforcats  \u001b[39m 1.0.0     \u001b[32m✔\u001b[39m \u001b[34mreadr    \u001b[39m 2.1.5\n",
            "\u001b[32m✔\u001b[39m \u001b[34mggplot2  \u001b[39m 3.4.4     \u001b[32m✔\u001b[39m \u001b[34mstringr  \u001b[39m 1.5.1\n",
            "\u001b[32m✔\u001b[39m \u001b[34mlubridate\u001b[39m 1.9.3     \u001b[32m✔\u001b[39m \u001b[34mtibble   \u001b[39m 3.2.1\n",
            "\u001b[32m✔\u001b[39m \u001b[34mpurrr    \u001b[39m 1.0.2     \u001b[32m✔\u001b[39m \u001b[34mtidyr    \u001b[39m 1.3.1\n",
            "── \u001b[1mConflicts\u001b[22m ────────────────────────────────────────── tidyverse_conflicts() ──\n",
            "\u001b[31m✖\u001b[39m \u001b[34mdplyr\u001b[39m::\u001b[32mfilter()\u001b[39m masks \u001b[34mstats\u001b[39m::filter()\n",
            "\u001b[31m✖\u001b[39m \u001b[34mdplyr\u001b[39m::\u001b[32mlag()\u001b[39m    masks \u001b[34mstats\u001b[39m::lag()\n",
            "\u001b[36mℹ\u001b[39m Use the conflicted package (\u001b[3m\u001b[34m<http://conflicted.r-lib.org/>\u001b[39m\u001b[23m) to force all conflicts to become errors\n"
          ]
        },
        {
          "output_type": "stream",
          "name": "stdout",
          "text": [
            "                     id               diagnosis             radius_mean \n",
            "                      0                       0                       0 \n",
            "           texture_mean          perimeter_mean               area_mean \n",
            "                      0                       0                       0 \n",
            "        smoothness_mean        compactness_mean          concavity_mean \n",
            "                      0                       0                       0 \n",
            "    concave.points_mean           symmetry_mean  fractal_dimension_mean \n",
            "                      0                       0                       0 \n",
            "              radius_se              texture_se            perimeter_se \n",
            "                      0                       0                       0 \n",
            "                area_se           smoothness_se          compactness_se \n",
            "                      0                       0                       0 \n",
            "           concavity_se       concave.points_se             symmetry_se \n",
            "                      0                       0                       0 \n",
            "   fractal_dimension_se            radius_worst           texture_worst \n",
            "                      0                       0                       0 \n",
            "        perimeter_worst              area_worst        smoothness_worst \n",
            "                      0                       0                       0 \n",
            "      compactness_worst         concavity_worst    concave.points_worst \n",
            "                      0                       0                       0 \n",
            "         symmetry_worst fractal_dimension_worst \n",
            "                      0                       0 \n"
          ]
        }
      ]
    },
    {
      "cell_type": "code",
      "source": [],
      "metadata": {
        "id": "M17fhN7d3nRK"
      },
      "execution_count": null,
      "outputs": []
    }
  ]
}